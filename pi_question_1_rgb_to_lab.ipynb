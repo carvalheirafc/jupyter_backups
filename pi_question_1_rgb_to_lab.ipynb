{
  "nbformat": 4,
  "nbformat_minor": 0,
  "metadata": {
    "colab": {
      "name": "pi_question_1_rgb_to_lab.ipynb",
      "provenance": [],
      "authorship_tag": "ABX9TyMmlHxEbabzwRTE2rYKHvb+",
      "include_colab_link": true
    },
    "kernelspec": {
      "name": "python3",
      "display_name": "Python 3"
    },
    "language_info": {
      "name": "python"
    }
  },
  "cells": [
    {
      "cell_type": "markdown",
      "metadata": {
        "id": "view-in-github",
        "colab_type": "text"
      },
      "source": [
        "<a href=\"https://colab.research.google.com/github/carvalheirafc/jupyter_backups/blob/main/pi_question_1_rgb_to_lab.ipynb\" target=\"_parent\"><img src=\"https://colab.research.google.com/assets/colab-badge.svg\" alt=\"Open In Colab\"/></a>"
      ]
    },
    {
      "cell_type": "code",
      "metadata": {
        "id": "dj1UqtLv5nlu"
      },
      "source": [
        "import numpy as np"
      ],
      "execution_count": 44,
      "outputs": []
    },
    {
      "cell_type": "code",
      "metadata": {
        "id": "pdNFhgYSqRmf"
      },
      "source": [
        "def matrix_conversion(rgb_array, lab_matrix):\n",
        "  X = rgb_array[0] * lab_matrix[0][0] +\\\n",
        "      rgb_array[1] * lab_matrix[0][1] +\\\n",
        "      rgb_array[2] * lab_matrix[0][2]\n",
        "\n",
        "  Y = rgb_array[0] * lab_matrix[1][0] +\\\n",
        "      rgb_array[1] * lab_matrix[1][1] +\\\n",
        "      rgb_array[2] * lab_matrix[1][2]\n",
        "  \n",
        "  Z = rgb_array[0] * lab_matrix[2][0] +\\\n",
        "      rgb_array[1] * lab_matrix[2][1] +\\\n",
        "      rgb_array[2] * lab_matrix[2][2]\n",
        "  \n",
        "  return [value **(0.333) if value > 0.008 else (7.78*value)+ 16/116 for value in [round(X, 4), round(Y, 4), round(Z, 4)]]\n"
      ],
      "execution_count": 39,
      "outputs": []
    },
    {
      "cell_type": "code",
      "metadata": {
        "id": "M6kauKNP7CoY"
      },
      "source": [
        "def value_ad(value):\n",
        "  return np.power(value, 1/3.0) if value > 0.00885 else 7.787 * value + 16/116.0"
      ],
      "execution_count": 58,
      "outputs": []
    },
    {
      "cell_type": "code",
      "metadata": {
        "id": "s8KoxyI-zLjw"
      },
      "source": [
        "def lab_conversion(converted_array):\n",
        "  L = 116 * np.power(converted_array[1], 1/3.0) if converted_array[1] > 0.00856 else 903.3 * converted_array[1]\n",
        "  a = 500 * (value_ad(converted_array[0]) - value_ad(converted_array[1]))\n",
        "  b = 200 * (value_ad(converted_array[1]) - value_ad(converted_array[2]))\n",
        "\n",
        "  return [round(L, 4), round(a, 4), round(b, 4)]"
      ],
      "execution_count": 59,
      "outputs": []
    },
    {
      "cell_type": "code",
      "metadata": {
        "colab": {
          "base_uri": "https://localhost:8080/"
        },
        "id": "HMHn3Ebco1Cv",
        "outputId": "a5c309b6-dcab-473c-ce74-f56e5549cc52"
      },
      "source": [
        "'''\n",
        "Conversion Matrix Definition\n",
        "\n",
        "'''\n",
        "M = [\n",
        "     [0.588, 0.179, 0.183],\n",
        "     [0.290, 0.606, 0.105],\n",
        "     [0.000, 0.068, 1.021]\n",
        "]\n",
        "\n",
        "x = matrix_conversion([1, 0, 0], M)\n",
        "lab = lab_conversion(x)\n",
        "print(f'L : [{lab[0]}]')\n",
        "print(f'a : [{lab[1]}]')\n",
        "print(f'b : [{lab[2]}]')"
      ],
      "execution_count": 65,
      "outputs": [
        {
          "output_type": "stream",
          "text": [
            "L : [101.1077]\n",
            "a : [35.5707]\n",
            "b : [70.9878]\n"
          ],
          "name": "stdout"
        }
      ]
    }
  ]
}