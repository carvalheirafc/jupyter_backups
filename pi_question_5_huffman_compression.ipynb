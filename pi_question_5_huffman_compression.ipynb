{
  "nbformat": 4,
  "nbformat_minor": 0,
  "metadata": {
    "colab": {
      "name": "pi_question_5_huffman_compression.ipynb",
      "provenance": [],
      "authorship_tag": "ABX9TyOprwpXmYh1rZHjr2Okbnvs",
      "include_colab_link": true
    },
    "kernelspec": {
      "name": "python3",
      "display_name": "Python 3"
    },
    "language_info": {
      "name": "python"
    }
  },
  "cells": [
    {
      "cell_type": "markdown",
      "metadata": {
        "id": "view-in-github",
        "colab_type": "text"
      },
      "source": [
        "<a href=\"https://colab.research.google.com/github/carvalheirafc/jupyter_backups/blob/main/pi_question_5_huffman_compression.ipynb\" target=\"_parent\"><img src=\"https://colab.research.google.com/assets/colab-badge.svg\" alt=\"Open In Colab\"/></a>"
      ]
    },
    {
      "cell_type": "code",
      "metadata": {
        "id": "bW7dvAcLhxx5"
      },
      "source": [
        "from collections import defaultdict\n",
        "from heapq import heapify, heappop\n",
        "import numpy as np"
      ],
      "execution_count": 1,
      "outputs": []
    },
    {
      "cell_type": "code",
      "metadata": {
        "id": "6xuFUE_RgUfa"
      },
      "source": [
        "def get_frequency(obj):\n",
        "  symbols_frequency = defaultdict(int)\n",
        "  for symbol in obj:\n",
        "    symbols_frequency[symbol] += 1\n",
        "\n",
        "  return symbols_frequency"
      ],
      "execution_count": 2,
      "outputs": []
    },
    {
      "cell_type": "code",
      "metadata": {
        "id": "i0IHfa5qxm_V"
      },
      "source": [
        "def get_heap(obj):\n",
        "  heap = []\n",
        "  for symbol, frequency in obj.items():\n",
        "    heap.append([frequency, [symbol, '']])\n",
        "  \n",
        "  return heap\n"
      ],
      "execution_count": 3,
      "outputs": []
    },
    {
      "cell_type": "code",
      "metadata": {
        "colab": {
          "base_uri": "https://localhost:8080/"
        },
        "id": "7XLPmnSYkMVR",
        "outputId": "91e69bf3-f66b-4d62-f780-f12b71cec1e2"
      },
      "source": [
        "normal_dist = np.random.normal(0, 0.1, 20)\n",
        "frequency = get_frequency([3,3,3,4,4,5,6,1,2,3,4,5,9])\n",
        "heap = get_heap(frequency)\n",
        "heap"
      ],
      "execution_count": 5,
      "outputs": [
        {
          "output_type": "execute_result",
          "data": {
            "text/plain": [
              "[[4, [3, '']],\n",
              " [3, [4, '']],\n",
              " [2, [5, '']],\n",
              " [1, [6, '']],\n",
              " [1, [1, '']],\n",
              " [1, [2, '']],\n",
              " [1, [9, '']]]"
            ]
          },
          "metadata": {
            "tags": []
          },
          "execution_count": 5
        }
      ]
    },
    {
      "cell_type": "code",
      "metadata": {
        "id": "01elddaLc31P"
      },
      "source": [
        "heapify(heap)"
      ],
      "execution_count": 14,
      "outputs": []
    },
    {
      "cell_type": "code",
      "metadata": {
        "id": "JtjofkBGOalN"
      },
      "source": [
        "while len(heap) > 1:\n",
        "  right = heappop(heap_obj)\n",
        "  left = heappop(heap_obj)\n",
        "\n",
        "  for pair in right[1:]:\n",
        "    pair[1] = '0' + pair[1]\n",
        "  for pair in left[1:]:\n",
        "    pair[1] = '1' + pair[1]"
      ],
      "execution_count": 15,
      "outputs": []
    }
  ]
}