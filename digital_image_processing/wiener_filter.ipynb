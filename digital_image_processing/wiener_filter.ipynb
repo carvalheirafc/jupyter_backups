{
  "nbformat": 4,
  "nbformat_minor": 0,
  "metadata": {
    "colab": {
      "name": "wiener_filter.ipynb",
      "provenance": [],
      "authorship_tag": "ABX9TyOjcYm7x1WA7ESjEEnljruq",
      "include_colab_link": true
    },
    "kernelspec": {
      "name": "python3",
      "display_name": "Python 3"
    },
    "language_info": {
      "name": "python"
    }
  },
  "cells": [
    {
      "cell_type": "markdown",
      "metadata": {
        "id": "view-in-github",
        "colab_type": "text"
      },
      "source": [
        "<a href=\"https://colab.research.google.com/github/carvalheirafc/jupyter_backups/blob/main/digital_image_processing/wiener_filter.ipynb\" target=\"_parent\"><img src=\"https://colab.research.google.com/assets/colab-badge.svg\" alt=\"Open In Colab\"/></a>"
      ]
    },
    {
      "cell_type": "code",
      "metadata": {
        "id": "m1wcRqXg7rz2"
      },
      "source": [
        "import numpy as np\n",
        "import scipy.stats as st"
      ],
      "execution_count": 8,
      "outputs": []
    },
    {
      "cell_type": "code",
      "metadata": {
        "id": "vj4R0EO1BCSq"
      },
      "source": [
        "def gkern(kernlen=21, nsig=3):\n",
        "  '''\n",
        "  H(u, v) = fft(self)\n",
        "  Returns a 2d Gaussian Kernel\n",
        "  https://stackoverflow.com/questions/29731726/how-to-calculate-a-gaussian-kernel-matrix-efficiently-in-numpy/29731818#29731818\n",
        "\n",
        "  '''\n",
        "  x = np.linspace(-nsig, nsig, kernlen+1)\n",
        "  kern1d = np.diff(st.norm.cdf(x))\n",
        "  kern2d = np.outer(kern1d, kern1d) \n",
        "\n",
        "  return kern2d/kern2d.sum()"
      ],
      "execution_count": 15,
      "outputs": []
    }
  ]
}