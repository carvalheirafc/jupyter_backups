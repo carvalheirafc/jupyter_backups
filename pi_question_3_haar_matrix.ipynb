{
  "nbformat": 4,
  "nbformat_minor": 0,
  "metadata": {
    "colab": {
      "name": "pi_question_3_haar_matrix.ipynb",
      "provenance": [],
      "authorship_tag": "ABX9TyNPbeGI60WuKtOXJuglikWo",
      "include_colab_link": true
    },
    "kernelspec": {
      "name": "python3",
      "display_name": "Python 3"
    },
    "language_info": {
      "name": "python"
    }
  },
  "cells": [
    {
      "cell_type": "markdown",
      "metadata": {
        "id": "view-in-github",
        "colab_type": "text"
      },
      "source": [
        "<a href=\"https://colab.research.google.com/github/carvalheirafc/jupyter_backups/blob/main/pi_question_3_haar_matrix.ipynb\" target=\"_parent\"><img src=\"https://colab.research.google.com/assets/colab-badge.svg\" alt=\"Open In Colab\"/></a>"
      ]
    },
    {
      "cell_type": "code",
      "metadata": {
        "id": "NkKtKoVB_0gx"
      },
      "source": [
        "import numpy as np"
      ],
      "execution_count": 1,
      "outputs": []
    },
    {
      "cell_type": "code",
      "metadata": {
        "id": "_5uoiniSGFNX"
      },
      "source": [
        "def haar_matrix(dimension):\n",
        "    dimension = 2**np.ceil(np.log2(dimension))\n",
        "    if dimension > 2:\n",
        "        h = haar_matrix(dimension / 2)\n",
        "    else:\n",
        "        return np.array([[1, 1], [1, -1]])\n",
        "\n",
        "    h_n = np.kron(h, [1, 1])\n",
        "    h_i = np.kron(np.eye(len(h)), [1, -1])\n",
        "    h = np.vstack((h_n, h_i))\n",
        "    return h"
      ],
      "execution_count": 5,
      "outputs": []
    },
    {
      "cell_type": "code",
      "metadata": {
        "colab": {
          "base_uri": "https://localhost:8080/"
        },
        "id": "6m5cuFu9NY9e",
        "outputId": "851f72af-5740-4a72-eb49-56881ad438cd"
      },
      "source": [
        "haar_matrix(2)"
      ],
      "execution_count": 6,
      "outputs": [
        {
          "output_type": "execute_result",
          "data": {
            "text/plain": [
              "array([[ 1,  1],\n",
              "       [ 1, -1]])"
            ]
          },
          "metadata": {
            "tags": []
          },
          "execution_count": 6
        }
      ]
    },
    {
      "cell_type": "code",
      "metadata": {
        "colab": {
          "base_uri": "https://localhost:8080/"
        },
        "id": "YNWVPrzlNcO1",
        "outputId": "231807ac-1448-4262-c472-d5affa65f4e5"
      },
      "source": [
        "haar_matrix(32)"
      ],
      "execution_count": 7,
      "outputs": [
        {
          "output_type": "execute_result",
          "data": {
            "text/plain": [
              "array([[ 1.,  1.,  1., ...,  1.,  1.,  1.],\n",
              "       [ 1.,  1.,  1., ..., -1., -1., -1.],\n",
              "       [ 1.,  1.,  1., ..., -0., -0., -0.],\n",
              "       ...,\n",
              "       [ 0., -0.,  0., ..., -0.,  0., -0.],\n",
              "       [ 0., -0.,  0., ..., -1.,  0., -0.],\n",
              "       [ 0., -0.,  0., ..., -0.,  1., -1.]])"
            ]
          },
          "metadata": {
            "tags": []
          },
          "execution_count": 7
        }
      ]
    }
  ]
}